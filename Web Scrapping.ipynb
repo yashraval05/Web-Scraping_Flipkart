{
 "cells": [
  {
   "cell_type": "markdown",
   "id": "a532fb7c",
   "metadata": {},
   "source": [
    "Importing necessary libraries"
   ]
  },
  {
   "cell_type": "code",
   "execution_count": 30,
   "id": "dc5d93b8",
   "metadata": {},
   "outputs": [],
   "source": [
    "from bs4 import BeautifulSoup \n",
    "\n",
    "import requests \n",
    "\n",
    "import csv\n",
    "\n",
    "import pandas as pd"
   ]
  },
  {
   "cell_type": "markdown",
   "id": "5adac75a",
   "metadata": {},
   "source": [
    "Selecting Columns of our dataset"
   ]
  },
  {
   "cell_type": "code",
   "execution_count": 42,
   "id": "f61ac931",
   "metadata": {},
   "outputs": [],
   "source": [
    "products=[]\n",
    "prices=[]\n",
    "mrp=[]\n",
    "discount=[]\n",
    "features=[]"
   ]
  },
  {
   "cell_type": "code",
   "execution_count": 43,
   "id": "50a9bf2d",
   "metadata": {},
   "outputs": [
    {
     "name": "stdout",
     "output_type": "stream",
     "text": [
      "48\n",
      "48\n",
      "48\n",
      "0\n",
      "48\n",
      "48\n"
     ]
    }
   ],
   "source": [
    "for i in range(1,3):\n",
    "    url=\"https://www.flipkart.com/search?q=laptops&otracker=search&otracker1=search&marketplace=FLIPKART&as-show=on&as=off&page=\"+str(i)\n",
    "    response = requests.get(url)\n",
    "    htmlcontent = response.content\n",
    "    soup = BeautifulSoup(htmlcontent,\"html.parser\")\n",
    "\n",
    "    for a in soup.findAll('a',href=True, attrs={'class':'_1fQZEK'}):\n",
    "      name=a.find('div',attrs={'class':'_4rR01T'})\n",
    "      price=a.find('div',attrs={'class':'_30jeq3 _1_WHN1'})\n",
    "      rating=a.find('div',attrs={'class':'_3LWZlK'})\n",
    "      discounts = a.find('div',attrs={'class':'_3Ay6Sb'})\n",
    "      max_price=a.find('div',attrs={'class':'_3I9_wc _27UcVY'})\n",
    "      feature=a.find('div',attrs={'class':'fMghEO'})\n",
    "      products.append(name.text)\n",
    "      prices.append(price.text)\n",
    "      features.append(feature.text)\n",
    "      discount.append(discounts.text)\n",
    "      mrp.append(max_price.text)\n",
    "print(len(products))\n",
    "print(len(prices))\n",
    "print(len(mrp))\n",
    "print(len(discount))\n",
    "print(len(features))"
   ]
  },
  {
   "cell_type": "markdown",
   "id": "f82256bb",
   "metadata": {},
   "source": [
    "Creating a dataset"
   ]
  },
  {
   "cell_type": "code",
   "execution_count": 44,
   "id": "c29f5a2e",
   "metadata": {},
   "outputs": [
    {
     "data": {
      "text/html": [
       "<div>\n",
       "<style scoped>\n",
       "    .dataframe tbody tr th:only-of-type {\n",
       "        vertical-align: middle;\n",
       "    }\n",
       "\n",
       "    .dataframe tbody tr th {\n",
       "        vertical-align: top;\n",
       "    }\n",
       "\n",
       "    .dataframe thead th {\n",
       "        text-align: right;\n",
       "    }\n",
       "</style>\n",
       "<table border=\"1\" class=\"dataframe\">\n",
       "  <thead>\n",
       "    <tr style=\"text-align: right;\">\n",
       "      <th></th>\n",
       "      <th>Product_Name</th>\n",
       "      <th>Price</th>\n",
       "      <th>MRP</th>\n",
       "      <th>Discount</th>\n",
       "      <th>features</th>\n",
       "    </tr>\n",
       "  </thead>\n",
       "  <tbody>\n",
       "    <tr>\n",
       "      <th>0</th>\n",
       "      <td>Lenovo IdeaPad 3 Core i3 10th Gen - (8 GB/256 ...</td>\n",
       "      <td>₹35,990</td>\n",
       "      <td>₹56,590</td>\n",
       "      <td>36% off</td>\n",
       "      <td>Intel Core i3 Processor (10th Gen)8 GB DDR4 RA...</td>\n",
       "    </tr>\n",
       "    <tr>\n",
       "      <th>1</th>\n",
       "      <td>HP Ryzen 3 Dual Core 3250U - (8 GB/256 GB SSD/...</td>\n",
       "      <td>₹34,990</td>\n",
       "      <td>₹46,055</td>\n",
       "      <td>24% off</td>\n",
       "      <td>AMD Ryzen 3 Dual Core Processor8 GB DDR4 RAM64...</td>\n",
       "    </tr>\n",
       "    <tr>\n",
       "      <th>2</th>\n",
       "      <td>DELL Vostro Core i3 10th Gen - (8 GB/256 GB SS...</td>\n",
       "      <td>₹34,990</td>\n",
       "      <td>₹43,312</td>\n",
       "      <td>19% off</td>\n",
       "      <td>Intel Core i3 Processor (10th Gen)8 GB DDR4 RA...</td>\n",
       "    </tr>\n",
       "    <tr>\n",
       "      <th>3</th>\n",
       "      <td>Lenovo Core i3 10th Gen - (8 GB/512 GB SSD/Win...</td>\n",
       "      <td>₹37,990</td>\n",
       "      <td>₹62,190</td>\n",
       "      <td>38% off</td>\n",
       "      <td>Intel Core i3 Processor (10th Gen)8 GB DDR4 RA...</td>\n",
       "    </tr>\n",
       "    <tr>\n",
       "      <th>4</th>\n",
       "      <td>HP Core i3 11th Gen - (8 GB/512 GB SSD/Windows...</td>\n",
       "      <td>₹42,490</td>\n",
       "      <td>₹51,748</td>\n",
       "      <td>17% off</td>\n",
       "      <td>Intel Core i3 Processor (11th Gen)8 GB DDR4 RA...</td>\n",
       "    </tr>\n",
       "  </tbody>\n",
       "</table>\n",
       "</div>"
      ],
      "text/plain": [
       "                                        Product_Name    Price      MRP  \\\n",
       "0  Lenovo IdeaPad 3 Core i3 10th Gen - (8 GB/256 ...  ₹35,990  ₹56,590   \n",
       "1  HP Ryzen 3 Dual Core 3250U - (8 GB/256 GB SSD/...  ₹34,990  ₹46,055   \n",
       "2  DELL Vostro Core i3 10th Gen - (8 GB/256 GB SS...  ₹34,990  ₹43,312   \n",
       "3  Lenovo Core i3 10th Gen - (8 GB/512 GB SSD/Win...  ₹37,990  ₹62,190   \n",
       "4  HP Core i3 11th Gen - (8 GB/512 GB SSD/Windows...  ₹42,490  ₹51,748   \n",
       "\n",
       "  Discount                                           features  \n",
       "0  36% off  Intel Core i3 Processor (10th Gen)8 GB DDR4 RA...  \n",
       "1  24% off  AMD Ryzen 3 Dual Core Processor8 GB DDR4 RAM64...  \n",
       "2  19% off  Intel Core i3 Processor (10th Gen)8 GB DDR4 RA...  \n",
       "3  38% off  Intel Core i3 Processor (10th Gen)8 GB DDR4 RA...  \n",
       "4  17% off  Intel Core i3 Processor (11th Gen)8 GB DDR4 RA...  "
      ]
     },
     "execution_count": 44,
     "metadata": {},
     "output_type": "execute_result"
    }
   ],
   "source": [
    "data = {\"Product_Name\":products,'Price':prices, 'MRP':mrp,'Discount':discount,'features':features}\n",
    "df=pd.DataFrame(data)\n",
    "df.head()"
   ]
  },
  {
   "cell_type": "markdown",
   "id": "17c76777",
   "metadata": {},
   "source": [
    "Adding Aditional information"
   ]
  },
  {
   "cell_type": "code",
   "execution_count": 45,
   "id": "d13beb9b",
   "metadata": {},
   "outputs": [
    {
     "data": {
      "text/html": [
       "<div>\n",
       "<style scoped>\n",
       "    .dataframe tbody tr th:only-of-type {\n",
       "        vertical-align: middle;\n",
       "    }\n",
       "\n",
       "    .dataframe tbody tr th {\n",
       "        vertical-align: top;\n",
       "    }\n",
       "\n",
       "    .dataframe thead th {\n",
       "        text-align: right;\n",
       "    }\n",
       "</style>\n",
       "<table border=\"1\" class=\"dataframe\">\n",
       "  <thead>\n",
       "    <tr style=\"text-align: right;\">\n",
       "      <th></th>\n",
       "      <th>Product_Name</th>\n",
       "      <th>Price</th>\n",
       "      <th>MRP</th>\n",
       "      <th>Discount</th>\n",
       "      <th>features</th>\n",
       "      <th>Product_brand</th>\n",
       "    </tr>\n",
       "  </thead>\n",
       "  <tbody>\n",
       "    <tr>\n",
       "      <th>0</th>\n",
       "      <td>Lenovo IdeaPad 3 Core i3 10th Gen - (8 GB/256 ...</td>\n",
       "      <td>₹35,990</td>\n",
       "      <td>₹56,590</td>\n",
       "      <td>36% off</td>\n",
       "      <td>Intel Core i3 Processor (10th Gen)8 GB DDR4 RA...</td>\n",
       "      <td>Lenovo</td>\n",
       "    </tr>\n",
       "    <tr>\n",
       "      <th>1</th>\n",
       "      <td>HP Ryzen 3 Dual Core 3250U - (8 GB/256 GB SSD/...</td>\n",
       "      <td>₹34,990</td>\n",
       "      <td>₹46,055</td>\n",
       "      <td>24% off</td>\n",
       "      <td>AMD Ryzen 3 Dual Core Processor8 GB DDR4 RAM64...</td>\n",
       "      <td>HP</td>\n",
       "    </tr>\n",
       "    <tr>\n",
       "      <th>2</th>\n",
       "      <td>DELL Vostro Core i3 10th Gen - (8 GB/256 GB SS...</td>\n",
       "      <td>₹34,990</td>\n",
       "      <td>₹43,312</td>\n",
       "      <td>19% off</td>\n",
       "      <td>Intel Core i3 Processor (10th Gen)8 GB DDR4 RA...</td>\n",
       "      <td>DELL</td>\n",
       "    </tr>\n",
       "    <tr>\n",
       "      <th>3</th>\n",
       "      <td>Lenovo Core i3 10th Gen - (8 GB/512 GB SSD/Win...</td>\n",
       "      <td>₹37,990</td>\n",
       "      <td>₹62,190</td>\n",
       "      <td>38% off</td>\n",
       "      <td>Intel Core i3 Processor (10th Gen)8 GB DDR4 RA...</td>\n",
       "      <td>Lenovo</td>\n",
       "    </tr>\n",
       "    <tr>\n",
       "      <th>4</th>\n",
       "      <td>HP Core i3 11th Gen - (8 GB/512 GB SSD/Windows...</td>\n",
       "      <td>₹42,490</td>\n",
       "      <td>₹51,748</td>\n",
       "      <td>17% off</td>\n",
       "      <td>Intel Core i3 Processor (11th Gen)8 GB DDR4 RA...</td>\n",
       "      <td>HP</td>\n",
       "    </tr>\n",
       "  </tbody>\n",
       "</table>\n",
       "</div>"
      ],
      "text/plain": [
       "                                        Product_Name    Price      MRP  \\\n",
       "0  Lenovo IdeaPad 3 Core i3 10th Gen - (8 GB/256 ...  ₹35,990  ₹56,590   \n",
       "1  HP Ryzen 3 Dual Core 3250U - (8 GB/256 GB SSD/...  ₹34,990  ₹46,055   \n",
       "2  DELL Vostro Core i3 10th Gen - (8 GB/256 GB SS...  ₹34,990  ₹43,312   \n",
       "3  Lenovo Core i3 10th Gen - (8 GB/512 GB SSD/Win...  ₹37,990  ₹62,190   \n",
       "4  HP Core i3 11th Gen - (8 GB/512 GB SSD/Windows...  ₹42,490  ₹51,748   \n",
       "\n",
       "  Discount                                           features Product_brand  \n",
       "0  36% off  Intel Core i3 Processor (10th Gen)8 GB DDR4 RA...        Lenovo  \n",
       "1  24% off  AMD Ryzen 3 Dual Core Processor8 GB DDR4 RAM64...            HP  \n",
       "2  19% off  Intel Core i3 Processor (10th Gen)8 GB DDR4 RA...          DELL  \n",
       "3  38% off  Intel Core i3 Processor (10th Gen)8 GB DDR4 RA...        Lenovo  \n",
       "4  17% off  Intel Core i3 Processor (11th Gen)8 GB DDR4 RA...            HP  "
      ]
     },
     "execution_count": 45,
     "metadata": {},
     "output_type": "execute_result"
    }
   ],
   "source": [
    "df['Product_brand'] = df['Product_Name'].str.split(' ').str[0]\n",
    "df.head()"
   ]
  },
  {
   "cell_type": "markdown",
   "id": "48e98425",
   "metadata": {},
   "source": [
    "Removing the Sign ₹ and , for giving columns proper data types"
   ]
  },
  {
   "cell_type": "code",
   "execution_count": 46,
   "id": "06835b70",
   "metadata": {},
   "outputs": [
    {
     "name": "stderr",
     "output_type": "stream",
     "text": [
      "C:\\Users\\DELL\\AppData\\Local\\Temp/ipykernel_10660/1685861589.py:2: FutureWarning: The default value of regex will change from True to False in a future version.\n",
      "  df['MRP']=df[\"MRP\"].str.replace(\"[,]\",\"\")\n",
      "C:\\Users\\DELL\\AppData\\Local\\Temp/ipykernel_10660/1685861589.py:5: FutureWarning: The default value of regex will change from True to False in a future version.\n",
      "  df['Price']=df[\"Price\"].str.replace(\"[,]\",\"\")\n"
     ]
    }
   ],
   "source": [
    "df['MRP']=df['MRP'].str[1:]\n",
    "df['MRP']=df[\"MRP\"].str.replace(\"[,]\",\"\")\n",
    "\n",
    "df['Price']=df['Price'].str[1:]\n",
    "df['Price']=df[\"Price\"].str.replace(\"[,]\",\"\")\n"
   ]
  },
  {
   "cell_type": "code",
   "execution_count": 47,
   "id": "136ba3cb",
   "metadata": {},
   "outputs": [],
   "source": [
    "df['Price']=df['Price'].astype(int)\n",
    "df['MRP']=df['MRP'].astype(int)"
   ]
  },
  {
   "cell_type": "code",
   "execution_count": 48,
   "id": "3074b019",
   "metadata": {},
   "outputs": [
    {
     "name": "stdout",
     "output_type": "stream",
     "text": [
      "<class 'pandas.core.frame.DataFrame'>\n",
      "RangeIndex: 48 entries, 0 to 47\n",
      "Data columns (total 6 columns):\n",
      " #   Column         Non-Null Count  Dtype \n",
      "---  ------         --------------  ----- \n",
      " 0   Product_Name   48 non-null     object\n",
      " 1   Price          48 non-null     int32 \n",
      " 2   MRP            48 non-null     int32 \n",
      " 3   Discount       48 non-null     object\n",
      " 4   features       48 non-null     object\n",
      " 5   Product_brand  48 non-null     object\n",
      "dtypes: int32(2), object(4)\n",
      "memory usage: 2.0+ KB\n"
     ]
    }
   ],
   "source": [
    "df.info()"
   ]
  },
  {
   "cell_type": "markdown",
   "id": "9106e86b",
   "metadata": {},
   "source": [
    "Exporting data set as .csv file"
   ]
  },
  {
   "cell_type": "code",
   "execution_count": 49,
   "id": "c889f958",
   "metadata": {},
   "outputs": [],
   "source": [
    "df.to_csv(Products.csv',header=True,index=False)"
   ]
  }
 ],
 "metadata": {
  "kernelspec": {
   "display_name": "Python 3 (ipykernel)",
   "language": "python",
   "name": "python3"
  },
  "language_info": {
   "codemirror_mode": {
    "name": "ipython",
    "version": 3
   },
   "file_extension": ".py",
   "mimetype": "text/x-python",
   "name": "python",
   "nbconvert_exporter": "python",
   "pygments_lexer": "ipython3",
   "version": "3.9.7"
  }
 },
 "nbformat": 4,
 "nbformat_minor": 5
}
